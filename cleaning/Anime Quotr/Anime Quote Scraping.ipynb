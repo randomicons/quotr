{
 "cells": [
  {
   "cell_type": "code",
   "execution_count": 139,
   "metadata": {},
   "outputs": [],
   "source": [
    "import requests\n",
    "import pandas as pd\n",
    "import numpy as np\n",
    "from bs4 import BeautifulSoup\n",
    "from Pymoe import Kitsu\n",
    "import wikipedia\n",
    "import time\n",
    "from Pymoe import Anilist\n",
    "import html"
   ]
  },
  {
   "cell_type": "markdown",
   "metadata": {},
   "source": [
    "## Scraping"
   ]
  },
  {
   "cell_type": "code",
   "execution_count": 26,
   "metadata": {},
   "outputs": [],
   "source": [
    "webUrl = requests.get('https://bayart.org/anime-quotes/')\n",
    "webData = BeautifulSoup(web_url.content,'lxml')"
   ]
  },
  {
   "cell_type": "code",
   "execution_count": 27,
   "metadata": {},
   "outputs": [],
   "source": [
    "quoteData = web_data.findAll('li')\n",
    "quotes = []\n",
    "for quote in quoteData:\n",
    "    quoteText = quote.get_text()\n",
    "    if len(quoteText)>0:\n",
    "        if quoteText[0] == '“':\n",
    "            quotes.append(quoteText.replace('\\xa0',''))"
   ]
  },
  {
   "cell_type": "markdown",
   "metadata": {},
   "source": [
    "## Cleaning"
   ]
  },
  {
   "cell_type": "code",
   "execution_count": 30,
   "metadata": {},
   "outputs": [
    {
     "data": {
      "text/html": [
       "<div>\n",
       "<style scoped>\n",
       "    .dataframe tbody tr th:only-of-type {\n",
       "        vertical-align: middle;\n",
       "    }\n",
       "\n",
       "    .dataframe tbody tr th {\n",
       "        vertical-align: top;\n",
       "    }\n",
       "\n",
       "    .dataframe thead th {\n",
       "        text-align: right;\n",
       "    }\n",
       "</style>\n",
       "<table border=\"1\" class=\"dataframe\">\n",
       "  <thead>\n",
       "    <tr style=\"text-align: right;\">\n",
       "      <th></th>\n",
       "      <th>Quote</th>\n",
       "    </tr>\n",
       "  </thead>\n",
       "  <tbody>\n",
       "    <tr>\n",
       "      <th>0</th>\n",
       "      <td>“It’s just pathetic to give up on something be...</td>\n",
       "    </tr>\n",
       "    <tr>\n",
       "      <th>1</th>\n",
       "      <td>“The world isn’t perfect. But it’s there for u...</td>\n",
       "    </tr>\n",
       "    <tr>\n",
       "      <th>2</th>\n",
       "      <td>“If you win, you live. If you lose, you die. I...</td>\n",
       "    </tr>\n",
       "    <tr>\n",
       "      <th>3</th>\n",
       "      <td>“Weaklings will stay weak forever. But weaknes...</td>\n",
       "    </tr>\n",
       "    <tr>\n",
       "      <th>4</th>\n",
       "      <td>“I’m not stupid. I’m just too lazy to show how...</td>\n",
       "    </tr>\n",
       "  </tbody>\n",
       "</table>\n",
       "</div>"
      ],
      "text/plain": [
       "                                               Quote\n",
       "0  “It’s just pathetic to give up on something be...\n",
       "1  “The world isn’t perfect. But it’s there for u...\n",
       "2  “If you win, you live. If you lose, you die. I...\n",
       "3  “Weaklings will stay weak forever. But weaknes...\n",
       "4  “I’m not stupid. I’m just too lazy to show how..."
      ]
     },
     "execution_count": 30,
     "metadata": {},
     "output_type": "execute_result"
    }
   ],
   "source": [
    "quotedf = pd.DataFrame(quotes, columns=['Quote'])\n",
    "quotedf.head()"
   ]
  },
  {
   "cell_type": "code",
   "execution_count": 40,
   "metadata": {},
   "outputs": [
    {
     "data": {
      "text/html": [
       "<div>\n",
       "<style scoped>\n",
       "    .dataframe tbody tr th:only-of-type {\n",
       "        vertical-align: middle;\n",
       "    }\n",
       "\n",
       "    .dataframe tbody tr th {\n",
       "        vertical-align: top;\n",
       "    }\n",
       "\n",
       "    .dataframe thead th {\n",
       "        text-align: right;\n",
       "    }\n",
       "</style>\n",
       "<table border=\"1\" class=\"dataframe\">\n",
       "  <thead>\n",
       "    <tr style=\"text-align: right;\">\n",
       "      <th></th>\n",
       "      <th>Quote</th>\n",
       "      <th>Author</th>\n",
       "    </tr>\n",
       "  </thead>\n",
       "  <tbody>\n",
       "    <tr>\n",
       "      <th>48</th>\n",
       "      <td>“Thinking you’re no-good and worthless is the ...</td>\n",
       "      <td>Nobito</td>\n",
       "    </tr>\n",
       "    <tr>\n",
       "      <th>81</th>\n",
       "      <td>“In this world, wherever there is light - ther...</td>\n",
       "      <td>Madara Uchiha</td>\n",
       "    </tr>\n",
       "    <tr>\n",
       "      <th>99</th>\n",
       "      <td>“Love is the reason why there is a pain. When ...</td>\n",
       "      <td>Pain</td>\n",
       "    </tr>\n",
       "  </tbody>\n",
       "</table>\n",
       "</div>"
      ],
      "text/plain": [
       "                                                Quote         Author\n",
       "48  “Thinking you’re no-good and worthless is the ...         Nobito\n",
       "81  “In this world, wherever there is light - ther...  Madara Uchiha\n",
       "99  “Love is the reason why there is a pain. When ...           Pain"
      ]
     },
     "execution_count": 40,
     "metadata": {},
     "output_type": "execute_result"
    }
   ],
   "source": [
    "dasheddf = quotedf['Quote'].str.split('–', expand=True).dropna()\n",
    "# change to loop over everything except last col eventually\n",
    "dasheddf['Quote'] = dasheddf[0] + \"-\" + dasheddf[1]\n",
    "dasheddf['Author'] = dasheddf[2]\n",
    "dasheddf = dasheddf[['Quote', 'Author']]\n",
    "dasheddf"
   ]
  },
  {
   "cell_type": "code",
   "execution_count": 47,
   "metadata": {},
   "outputs": [
    {
     "data": {
      "text/html": [
       "<div>\n",
       "<style scoped>\n",
       "    .dataframe tbody tr th:only-of-type {\n",
       "        vertical-align: middle;\n",
       "    }\n",
       "\n",
       "    .dataframe tbody tr th {\n",
       "        vertical-align: top;\n",
       "    }\n",
       "\n",
       "    .dataframe thead th {\n",
       "        text-align: right;\n",
       "    }\n",
       "</style>\n",
       "<table border=\"1\" class=\"dataframe\">\n",
       "  <thead>\n",
       "    <tr style=\"text-align: right;\">\n",
       "      <th></th>\n",
       "      <th>Quote</th>\n",
       "      <th>Author</th>\n",
       "    </tr>\n",
       "  </thead>\n",
       "  <tbody>\n",
       "    <tr>\n",
       "      <th>0</th>\n",
       "      <td>“It’s just pathetic to give up on something be...</td>\n",
       "      <td>Reiko Mikami</td>\n",
       "    </tr>\n",
       "    <tr>\n",
       "      <th>1</th>\n",
       "      <td>“The world isn’t perfect. But it’s there for u...</td>\n",
       "      <td>Roy Mustang</td>\n",
       "    </tr>\n",
       "    <tr>\n",
       "      <th>2</th>\n",
       "      <td>“If you win, you live. If you lose, you die. I...</td>\n",
       "      <td>Shingeki No Kyojin</td>\n",
       "    </tr>\n",
       "    <tr>\n",
       "      <th>3</th>\n",
       "      <td>“Weaklings will stay weak forever. But weaknes...</td>\n",
       "      <td>Makarov Dreyar</td>\n",
       "    </tr>\n",
       "    <tr>\n",
       "      <th>4</th>\n",
       "      <td>“I’m not stupid. I’m just too lazy to show how...</td>\n",
       "      <td>Oreki Houtarou</td>\n",
       "    </tr>\n",
       "  </tbody>\n",
       "</table>\n",
       "</div>"
      ],
      "text/plain": [
       "                                               Quote               Author\n",
       "0  “It’s just pathetic to give up on something be...         Reiko Mikami\n",
       "1  “The world isn’t perfect. But it’s there for u...          Roy Mustang\n",
       "2  “If you win, you live. If you lose, you die. I...   Shingeki No Kyojin\n",
       "3  “Weaklings will stay weak forever. But weaknes...       Makarov Dreyar\n",
       "4  “I’m not stupid. I’m just too lazy to show how...       Oreki Houtarou"
      ]
     },
     "execution_count": 47,
     "metadata": {},
     "output_type": "execute_result"
    }
   ],
   "source": [
    "undasheddf = quotedf['Quote'].str.split('–', expand=True)\n",
    "undasheddf = undasheddf[undasheddf[2].isnull()]\n",
    "undasheddf = undasheddf.drop([2], axis=1)\n",
    "undasheddf = undasheddf.rename({0: 'Quote', 1: 'Author'}, axis=1)\n",
    "undasheddf.head()"
   ]
  },
  {
   "cell_type": "code",
   "execution_count": 50,
   "metadata": {},
   "outputs": [
    {
     "data": {
      "text/html": [
       "<div>\n",
       "<style scoped>\n",
       "    .dataframe tbody tr th:only-of-type {\n",
       "        vertical-align: middle;\n",
       "    }\n",
       "\n",
       "    .dataframe tbody tr th {\n",
       "        vertical-align: top;\n",
       "    }\n",
       "\n",
       "    .dataframe thead th {\n",
       "        text-align: right;\n",
       "    }\n",
       "</style>\n",
       "<table border=\"1\" class=\"dataframe\">\n",
       "  <thead>\n",
       "    <tr style=\"text-align: right;\">\n",
       "      <th></th>\n",
       "      <th>Quote</th>\n",
       "      <th>Author</th>\n",
       "    </tr>\n",
       "  </thead>\n",
       "  <tbody>\n",
       "    <tr>\n",
       "      <th>0</th>\n",
       "      <td>It’s just pathetic to give up on something bef...</td>\n",
       "      <td>Reiko Mikami</td>\n",
       "    </tr>\n",
       "    <tr>\n",
       "      <th>1</th>\n",
       "      <td>The world isn’t perfect. But it’s there for us...</td>\n",
       "      <td>Roy Mustang</td>\n",
       "    </tr>\n",
       "    <tr>\n",
       "      <th>2</th>\n",
       "      <td>If you win, you live. If you lose, you die. If...</td>\n",
       "      <td>Shingeki No Kyojin</td>\n",
       "    </tr>\n",
       "    <tr>\n",
       "      <th>3</th>\n",
       "      <td>Weaklings will stay weak forever. But weakness...</td>\n",
       "      <td>Makarov Dreyar</td>\n",
       "    </tr>\n",
       "    <tr>\n",
       "      <th>4</th>\n",
       "      <td>I’m not stupid. I’m just too lazy to show how ...</td>\n",
       "      <td>Oreki Houtarou</td>\n",
       "    </tr>\n",
       "  </tbody>\n",
       "</table>\n",
       "</div>"
      ],
      "text/plain": [
       "                                               Quote               Author\n",
       "0  It’s just pathetic to give up on something bef...         Reiko Mikami\n",
       "1  The world isn’t perfect. But it’s there for us...          Roy Mustang\n",
       "2  If you win, you live. If you lose, you die. If...   Shingeki No Kyojin\n",
       "3  Weaklings will stay weak forever. But weakness...       Makarov Dreyar\n",
       "4  I’m not stupid. I’m just too lazy to show how ...       Oreki Houtarou"
      ]
     },
     "execution_count": 50,
     "metadata": {},
     "output_type": "execute_result"
    }
   ],
   "source": [
    "quotedf = undasheddf.append(dasheddf)\n",
    "quotedf['Quote'] = quotedf['Quote'].str.replace('“','')\n",
    "quotedf['Quote'] = quotedf['Quote'].str.replace('”','')\n",
    "quotedf.head()"
   ]
  },
  {
   "cell_type": "markdown",
   "metadata": {},
   "source": [
    "## Adding extra data"
   ]
  },
  {
   "cell_type": "code",
   "execution_count": 148,
   "metadata": {},
   "outputs": [],
   "source": [
    "authors = quotedf['Author'].values\n",
    "instance = Anilist()"
   ]
  },
  {
   "cell_type": "code",
   "execution_count": 155,
   "metadata": {},
   "outputs": [],
   "source": [
    "def searchChar(author):\n",
    "    result = {'description':'', 'image':''}\n",
    "    charBaseData = instance.search.character(author)['data']['Page']['characters']\n",
    "    if len(charBaseData) > 0:\n",
    "        charID = charBaseData[0]['id']\n",
    "        charData = instance.get.character(charID)\n",
    "        charDescription = charData['data']['Character']['description']\n",
    "        if charDescription is not None:\n",
    "            result['description'] = html.unescape(charDescription).replace('!~','').replace('~!','')\n",
    "        # using html to get rid of unconverted html symbols\n",
    "        result['image'] = charData['data']['Character']['image']['large']\n",
    "    else:\n",
    "        animeBaseData = instance.search.anime(author)['data']['Page']['media']\n",
    "        if len(animeBaseData) > 0:\n",
    "            animeID = animeBaseData[0]['id']\n",
    "            animeData = instance.get.anime(animeID)\n",
    "            animeDescription = animeData['data']['Media']['description']\n",
    "            if animeDescription is not None:\n",
    "                result['description'] = html.unescape(animeDescription).replace('!~','').replace('~!','')\n",
    "            result['image'] = animeData['data']['Media']['coverImage']['large']\n",
    "            # we can also use ['bannerImage'] instead of ['coverImage']['large'] for different pictures\n",
    "    return result"
   ]
  },
  {
   "cell_type": "code",
   "execution_count": 156,
   "metadata": {},
   "outputs": [],
   "source": [
    "summaries = []\n",
    "images = []\n",
    "count = 0\n",
    "for author in authors:\n",
    "    charJson = searchChar(author)\n",
    "    summaries.append(charJson['description'])\n",
    "    images.append(charJson['image'])\n",
    "    count = count + 1\n",
    "    if (count == 40):\n",
    "        # rate limited to 90 per min and each run takes 2 calls\n",
    "        time.sleep(55)\n",
    "        count = 0"
   ]
  },
  {
   "cell_type": "code",
   "execution_count": 159,
   "metadata": {},
   "outputs": [
    {
     "data": {
      "text/html": [
       "<div>\n",
       "<style scoped>\n",
       "    .dataframe tbody tr th:only-of-type {\n",
       "        vertical-align: middle;\n",
       "    }\n",
       "\n",
       "    .dataframe tbody tr th {\n",
       "        vertical-align: top;\n",
       "    }\n",
       "\n",
       "    .dataframe thead th {\n",
       "        text-align: right;\n",
       "    }\n",
       "</style>\n",
       "<table border=\"1\" class=\"dataframe\">\n",
       "  <thead>\n",
       "    <tr style=\"text-align: right;\">\n",
       "      <th></th>\n",
       "      <th>Quote</th>\n",
       "      <th>Author</th>\n",
       "      <th>Summary</th>\n",
       "      <th>Image</th>\n",
       "    </tr>\n",
       "  </thead>\n",
       "  <tbody>\n",
       "    <tr>\n",
       "      <th>0</th>\n",
       "      <td>It’s just pathetic to give up on something bef...</td>\n",
       "      <td>Reiko Mikami</td>\n",
       "      <td>Kouichi's aunt from Ritsuko's side  and class ...</td>\n",
       "      <td>https://s4.anilist.co/file/anilistcdn/characte...</td>\n",
       "    </tr>\n",
       "    <tr>\n",
       "      <th>1</th>\n",
       "      <td>The world isn’t perfect. But it’s there for us...</td>\n",
       "      <td>Roy Mustang</td>\n",
       "      <td>__Birthday:__ 1885 (Age 30 from vol. 10)\\n__He...</td>\n",
       "      <td>https://s4.anilist.co/file/anilistcdn/characte...</td>\n",
       "    </tr>\n",
       "    <tr>\n",
       "      <th>2</th>\n",
       "      <td>If you win, you live. If you lose, you die. If...</td>\n",
       "      <td>Shingeki No Kyojin</td>\n",
       "      <td>Several hundred years ago, humans were nearly ...</td>\n",
       "      <td>https://s4.anilist.co/file/anilistcdn/media/an...</td>\n",
       "    </tr>\n",
       "    <tr>\n",
       "      <th>3</th>\n",
       "      <td>Weaklings will stay weak forever. But weakness...</td>\n",
       "      <td>Makarov Dreyar</td>\n",
       "      <td>Makarov (マカロフ Makarofu), is the \"Master\" of th...</td>\n",
       "      <td>https://s4.anilist.co/file/anilistcdn/characte...</td>\n",
       "    </tr>\n",
       "    <tr>\n",
       "      <th>4</th>\n",
       "      <td>I’m not stupid. I’m just too lazy to show how ...</td>\n",
       "      <td>Oreki Houtarou</td>\n",
       "      <td>__Age:__ 16-17 \\n__Height:__ 176 cm \\n__Birthd...</td>\n",
       "      <td>https://s4.anilist.co/file/anilistcdn/characte...</td>\n",
       "    </tr>\n",
       "  </tbody>\n",
       "</table>\n",
       "</div>"
      ],
      "text/plain": [
       "                                               Quote               Author  \\\n",
       "0  It’s just pathetic to give up on something bef...         Reiko Mikami   \n",
       "1  The world isn’t perfect. But it’s there for us...          Roy Mustang   \n",
       "2  If you win, you live. If you lose, you die. If...   Shingeki No Kyojin   \n",
       "3  Weaklings will stay weak forever. But weakness...       Makarov Dreyar   \n",
       "4  I’m not stupid. I’m just too lazy to show how ...       Oreki Houtarou   \n",
       "\n",
       "                                             Summary  \\\n",
       "0  Kouichi's aunt from Ritsuko's side  and class ...   \n",
       "1  __Birthday:__ 1885 (Age 30 from vol. 10)\\n__He...   \n",
       "2  Several hundred years ago, humans were nearly ...   \n",
       "3  Makarov (マカロフ Makarofu), is the \"Master\" of th...   \n",
       "4  __Age:__ 16-17 \\n__Height:__ 176 cm \\n__Birthd...   \n",
       "\n",
       "                                               Image  \n",
       "0  https://s4.anilist.co/file/anilistcdn/characte...  \n",
       "1  https://s4.anilist.co/file/anilistcdn/characte...  \n",
       "2  https://s4.anilist.co/file/anilistcdn/media/an...  \n",
       "3  https://s4.anilist.co/file/anilistcdn/characte...  \n",
       "4  https://s4.anilist.co/file/anilistcdn/characte...  "
      ]
     },
     "execution_count": 159,
     "metadata": {},
     "output_type": "execute_result"
    }
   ],
   "source": [
    "quotedf['Summary'] = summaries\n",
    "quotedf['Image'] = images\n",
    "quotedf.head()"
   ]
  },
  {
   "cell_type": "code",
   "execution_count": 167,
   "metadata": {},
   "outputs": [],
   "source": [
    "finalquotedf = quotedf[(quotedf['Summary'] != '') & (quotedf['Image'] != '')]"
   ]
  },
  {
   "cell_type": "code",
   "execution_count": 171,
   "metadata": {},
   "outputs": [],
   "source": [
    "finalquotedf.to_json('animequotes.json', orient=\"records\")"
   ]
  },
  {
   "cell_type": "code",
   "execution_count": null,
   "metadata": {},
   "outputs": [],
   "source": []
  }
 ],
 "metadata": {
  "kernelspec": {
   "display_name": "Python 3",
   "language": "python",
   "name": "python3"
  },
  "language_info": {
   "codemirror_mode": {
    "name": "ipython",
    "version": 3
   },
   "file_extension": ".py",
   "mimetype": "text/x-python",
   "name": "python",
   "nbconvert_exporter": "python",
   "pygments_lexer": "ipython3",
   "version": "3.7.3"
  }
 },
 "nbformat": 4,
 "nbformat_minor": 2
}
